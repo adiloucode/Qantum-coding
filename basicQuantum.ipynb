{
 "cells": [
  {
   "cell_type": "markdown",
   "metadata": {},
   "source": [
    "# Importing the pennylane library"
   ]
  },
  {
   "cell_type": "code",
   "execution_count": 49,
   "metadata": {},
   "outputs": [],
   "source": [
    "import pennylane as qml\n",
    "import numpy as np"
   ]
  },
  {
   "cell_type": "markdown",
   "metadata": {},
   "source": [
    "# Gates manipulation"
   ]
  },
  {
   "cell_type": "code",
   "execution_count": 39,
   "metadata": {},
   "outputs": [],
   "source": [
    "def circuit():\n",
    "    qml.PauliX(0)\n",
    "    qml.Hadamard(0)\n",
    "    return qml.state"
   ]
  },
  {
   "cell_type": "code",
   "execution_count": 40,
   "metadata": {},
   "outputs": [],
   "source": [
    "# Creating a device\n",
    "dev = qml.device(name ='default.qubit', wires= 0)\n",
    "\n",
    "# fucntion that implement the circuit and returnts state vector\n",
    "def func_1():\n",
    "    circuit()\n",
    "    return qml.state() # state vector (amplitudes)\n",
    "\n",
    "# Qnode creation (associating function with device) methode 1\n",
    "qnode_1 = qml.QNode(func_1, dev)\n",
    "    "
   ]
  },
  {
   "cell_type": "code",
   "execution_count": 41,
   "metadata": {},
   "outputs": [
    {
     "name": "stdout",
     "output_type": "stream",
     "text": [
      "[ 0.70710678+0.j -0.70710678+0.j]\n"
     ]
    }
   ],
   "source": [
    "print(qnode_1())"
   ]
  },
  {
   "cell_type": "code",
   "execution_count": 42,
   "metadata": {},
   "outputs": [],
   "source": [
    "# Qnode creation methode 2 using function decorator\n",
    "@qml.qnode(dev)\n",
    "def qnode_2():\n",
    "    circuit()\n",
    "    return qml.probs() # states probabilites"
   ]
  },
  {
   "cell_type": "code",
   "execution_count": 43,
   "metadata": {},
   "outputs": [
    {
     "name": "stdout",
     "output_type": "stream",
     "text": [
      "[0.5 0.5]\n"
     ]
    }
   ],
   "source": [
    "print(qnode_2())"
   ]
  },
  {
   "cell_type": "code",
   "execution_count": 44,
   "metadata": {},
   "outputs": [],
   "source": [
    "dev_2 = qml.device(name = 'default.qubit', wires = 0, shots = 700) # shots= nbr times circuit is executed"
   ]
  },
  {
   "cell_type": "code",
   "execution_count": 76,
   "metadata": {},
   "outputs": [],
   "source": [
    "@qml.qnode(dev_2)\n",
    "def qnode_3():\n",
    "    circuit()\n",
    "    return qml.sample(wires=0) # measures qubit one as many times as specified in shots and returns results in a list, "
   ]
  },
  {
   "cell_type": "code",
   "execution_count": 77,
   "metadata": {},
   "outputs": [
    {
     "name": "stdout",
     "output_type": "stream",
     "text": [
      "[1 1 0 1 1 1 0 0 1 1 1 0 0 0 1 0 1 1 0 1 0 1 0 0 1 0 1 1 0 1 1 1 1 1 1 0 1\n",
      " 1 1 1 1 0 1 1 1 1 1 0 0 1 1 0 0 1 1 1 0 1 0 1 1 0 1 0 0 0 1 1 1 1 1 1 0 0\n",
      " 1 0 0 1 1 1 0 1 1 1 0 1 1 1 1 1 0 0 1 0 0 0 0 1 0 1 1 1 0 1 0 1 0 1 0 0 0\n",
      " 1 1 1 1 0 1 0 1 0 0 0 0 1 1 0 1 0 0 0 1 1 0 0 0 1 1 0 1 0 1 0 1 1 0 1 1 0\n",
      " 0 1 1 0 1 0 0 0 0 0 1 1 0 0 1 0 1 0 1 0 1 1 0 0 1 1 0 1 0 1 1 0 1 0 1 0 1\n",
      " 1 1 0 0 1 0 1 0 1 1 0 1 0 0 0 1 1 1 0 1 0 1 0 0 0 0 0 0 0 0 0 1 1 0 0 1 1\n",
      " 0 1 1 1 0 1 0 1 1 0 0 0 0 1 1 1 0 1 1 0 0 0 1 1 1 0 0 1 0 0 0 0 0 0 0 0 1\n",
      " 0 1 0 1 1 1 1 1 1 0 1 0 0 0 1 0 1 1 1 1 1 0 0 0 0 0 1 0 0 1 1 0 1 0 0 1 0\n",
      " 0 0 1 1 1 1 1 1 1 0 1 1 1 1 0 0 1 1 0 1 1 0 0 1 1 1 1 0 1 0 0 0 1 0 1 1 0\n",
      " 0 1 0 1 1 1 0 0 0 0 0 0 0 1 1 1 1 1 1 1 0 1 1 0 0 0 0 1 0 1 0 1 1 0 0 0 1\n",
      " 0 0 1 1 1 0 0 0 0 1 0 1 0 1 0 1 0 1 0 0 0 0 1 0 0 1 0 1 0 0 1 1 0 0 1 0 0\n",
      " 0 1 0 1 1 1 0 0 1 0 0 1 0 1 1 0 0 0 1 0 1 0 0 0 1 1 1 0 1 1 1 1 0 1 1 1 1\n",
      " 1 0 1 1 1 0 0 1 0 0 0 0 1 0 0 0 0 1 1 0 0 0 1 1 0 1 0 1 1 0 1 0 1 0 0 1 1\n",
      " 0 1 1 1 1 1 1 1 0 0 0 1 1 0 1 1 0 0 0 0 1 0 1 1 1 0 1 0 1 0 1 1 0 1 1 1 0\n",
      " 1 1 1 1 1 1 1 0 0 0 1 1 1 0 1 0 0 0 1 1 1 1 1 1 1 0 0 1 0 1 1 1 1 1 0 1 0\n",
      " 1 1 0 0 1 0 0 0 1 1 1 1 0 1 1 0 0 1 0 1 0 1 0 1 1 0 0 0 0 0 1 0 0 0 1 0 1\n",
      " 1 0 1 1 0 1 1 0 1 1 0 1 1 0 1 1 1 1 0 1 1 1 0 1 0 0 0 1 0 1 0 1 1 0 1 0 1\n",
      " 0 0 1 1 1 1 0 1 1 0 0 1 0 1 0 0 1 0 1 1 1 1 1 0 0 0 1 1 0 1 1 0 1 1 1 1 1\n",
      " 1 0 1 1 1 1 1 0 1 0 1 1 1 1 1 0 1 0 1 0 0 1 1 1 0 1 0 0 1 1 0 1 0 1]\n",
      "320\n",
      "380\n",
      "700\n"
     ]
    }
   ],
   "source": [
    "res = qnode_3() \n",
    "print(res)\n",
    "a= np.count_nonzero(res == 0)\n",
    "b= np.count_nonzero(res == 1)\n",
    "print(a)\n",
    "print(b)\n",
    "print( a+b)"
   ]
  },
  {
   "cell_type": "code",
   "execution_count": 66,
   "metadata": {},
   "outputs": [],
   "source": [
    "@qml.qnode(dev_2)\n",
    "def qnode_4():\n",
    "    circuit()\n",
    "    return qml.expval(qml.PauliZ(0)) # Mesures  "
   ]
  },
  {
   "cell_type": "code",
   "execution_count": 79,
   "metadata": {},
   "outputs": [
    {
     "data": {
      "text/plain": [
       "array([[ 0.70710678,  0.70710678],\n",
       "       [-0.70710678,  0.70710678]])"
      ]
     },
     "execution_count": 79,
     "metadata": {},
     "output_type": "execute_result"
    }
   ],
   "source": [
    "qml.matrix(qnode_4)() # Equivalent matrix to the circuit within the Qnode's function"
   ]
  },
  {
   "cell_type": "code",
   "execution_count": 80,
   "metadata": {},
   "outputs": [
    {
     "name": "stdout",
     "output_type": "stream",
     "text": [
      "0.03142857142857143\n"
     ]
    }
   ],
   "source": [
    "print(qnode_4())"
   ]
  }
 ],
 "metadata": {
  "kernelspec": {
   "display_name": "qcode",
   "language": "python",
   "name": "python3"
  },
  "language_info": {
   "codemirror_mode": {
    "name": "ipython",
    "version": 3
   },
   "file_extension": ".py",
   "mimetype": "text/x-python",
   "name": "python",
   "nbconvert_exporter": "python",
   "pygments_lexer": "ipython3",
   "version": "3.10.2"
  }
 },
 "nbformat": 4,
 "nbformat_minor": 2
}
